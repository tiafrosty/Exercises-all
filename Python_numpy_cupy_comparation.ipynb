{
  "nbformat": 4,
  "nbformat_minor": 0,
  "metadata": {
    "colab": {
      "provenance": [],
      "gpuType": "T4",
      "authorship_tag": "ABX9TyPzZmfP5C84nx5UCuE0nKUo",
      "include_colab_link": true
    },
    "kernelspec": {
      "name": "python3",
      "display_name": "Python 3"
    },
    "language_info": {
      "name": "python"
    },
    "accelerator": "GPU"
  },
  "cells": [
    {
      "cell_type": "markdown",
      "metadata": {
        "id": "view-in-github",
        "colab_type": "text"
      },
      "source": [
        "<a href=\"https://colab.research.google.com/github/tiafrosty/Exercises-day2-day4/blob/main/Python_numpy_cupy_comparation.ipynb\" target=\"_parent\"><img src=\"https://colab.research.google.com/assets/colab-badge.svg\" alt=\"Open In Colab\"/></a>"
      ]
    },
    {
      "cell_type": "code",
      "execution_count": 1,
      "metadata": {
        "colab": {
          "base_uri": "https://localhost:8080/"
        },
        "id": "HBmpLjtH7dUI",
        "outputId": "fc809531-6a2e-481f-d73d-99594a9a0df0"
      },
      "outputs": [
        {
          "output_type": "stream",
          "name": "stdout",
          "text": [
            "Wed Feb 28 13:06:31 2024       \n",
            "+---------------------------------------------------------------------------------------+\n",
            "| NVIDIA-SMI 535.104.05             Driver Version: 535.104.05   CUDA Version: 12.2     |\n",
            "|-----------------------------------------+----------------------+----------------------+\n",
            "| GPU  Name                 Persistence-M | Bus-Id        Disp.A | Volatile Uncorr. ECC |\n",
            "| Fan  Temp   Perf          Pwr:Usage/Cap |         Memory-Usage | GPU-Util  Compute M. |\n",
            "|                                         |                      |               MIG M. |\n",
            "|=========================================+======================+======================|\n",
            "|   0  Tesla T4                       Off | 00000000:00:04.0 Off |                    0 |\n",
            "| N/A   48C    P8              10W /  70W |      0MiB / 15360MiB |      0%      Default |\n",
            "|                                         |                      |                  N/A |\n",
            "+-----------------------------------------+----------------------+----------------------+\n",
            "                                                                                         \n",
            "+---------------------------------------------------------------------------------------+\n",
            "| Processes:                                                                            |\n",
            "|  GPU   GI   CI        PID   Type   Process name                            GPU Memory |\n",
            "|        ID   ID                                                             Usage      |\n",
            "|=======================================================================================|\n",
            "|  No running processes found                                                           |\n",
            "+---------------------------------------------------------------------------------------+\n"
          ]
        }
      ],
      "source": [
        "import cupy as cp\n",
        "import numpy as np\n",
        "\n",
        "!nvidia-smi"
      ]
    },
    {
      "cell_type": "code",
      "source": [
        "def cp_test(n):\n",
        "\n",
        "  # 2d fourier transform with cupy\n",
        "  arr = cp.random.rand(n, n)\n",
        "\n",
        "  print(\"With the size of %.0f^2 cupy did the Foirier transform in:\" % n)\n",
        "  %timeit cp.fft.fft2(arr)\n",
        "  print('\\n')\n",
        "\n",
        "\n",
        "def np_test(n):\n",
        "\n",
        "  # 2d fourier transform with numpy\n",
        "  arr = np.random.rand(n, n).astype(np.float32)\n",
        "  print(\"With the size of %.0f^2 numpy did the Foirier transform in:\" % n)\n",
        "  %timeit  np.fft.fft2(arr)\n",
        "  print('\\n')\n",
        "  #arr2 = np.random.rand(512, 512)\n",
        "  #arr3 = np.random.rand(1024, 1024)\n",
        "  #arr3 = np.random.rand(2048, 2048)\n",
        "\n",
        "\n",
        "# 2d fourier transform with cupy\n",
        "cp_test(124)\n",
        "np_test(124)\n",
        "##\n",
        "cp_test(512)\n",
        "np_test(512)\n",
        "##\n",
        "cp_test(1024)\n",
        "np_test(1024)\n",
        "##\n",
        "cp_test(2048)\n",
        "np_test(2048)\n"
      ],
      "metadata": {
        "colab": {
          "base_uri": "https://localhost:8080/"
        },
        "id": "OyK2hspx97Ad",
        "outputId": "1e2a5f25-5353-4887-82e6-a6a334a5bd65"
      },
      "execution_count": 2,
      "outputs": [
        {
          "output_type": "stream",
          "name": "stdout",
          "text": [
            "With the size of 124^2 cupy did the Foirier transform in:\n",
            "183 µs ± 68.7 µs per loop (mean ± std. dev. of 7 runs, 1 loop each)\n",
            "\n",
            "\n",
            "With the size of 124^2 numpy did the Foirier transform in:\n",
            "629 µs ± 189 µs per loop (mean ± std. dev. of 7 runs, 1000 loops each)\n",
            "\n",
            "\n",
            "With the size of 512^2 cupy did the Foirier transform in:\n",
            "251 µs ± 2.72 µs per loop (mean ± std. dev. of 7 runs, 1000 loops each)\n",
            "\n",
            "\n",
            "With the size of 512^2 numpy did the Foirier transform in:\n",
            "6.6 ms ± 80.2 µs per loop (mean ± std. dev. of 7 runs, 100 loops each)\n",
            "\n",
            "\n",
            "With the size of 1024^2 cupy did the Foirier transform in:\n",
            "1.08 ms ± 584 ns per loop (mean ± std. dev. of 7 runs, 1000 loops each)\n",
            "\n",
            "\n",
            "With the size of 1024^2 numpy did the Foirier transform in:\n",
            "27.2 ms ± 4.32 ms per loop (mean ± std. dev. of 7 runs, 10 loops each)\n",
            "\n",
            "\n",
            "With the size of 2048^2 cupy did the Foirier transform in:\n",
            "4.16 ms ± 39.5 µs per loop (mean ± std. dev. of 7 runs, 1000 loops each)\n",
            "\n",
            "\n",
            "With the size of 2048^2 numpy did the Foirier transform in:\n",
            "158 ms ± 20 ms per loop (mean ± std. dev. of 7 runs, 10 loops each)\n",
            "\n",
            "\n"
          ]
        }
      ]
    },
    {
      "cell_type": "markdown",
      "source": [
        " Cupy outperforms for n > 512"
      ],
      "metadata": {
        "id": "iYQGiD2h1QBF"
      }
    }
  ]
}