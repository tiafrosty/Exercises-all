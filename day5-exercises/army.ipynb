{
 "cells": [
  {
   "cell_type": "markdown",
   "metadata": {},
   "source": [
    "# Fictional Army - Filtering and Sorting"
   ]
  },
  {
   "cell_type": "markdown",
   "metadata": {},
   "source": [
    "### Introduction:\n",
    "\n",
    "This exercise was inspired by this [page](http://chrisalbon.com/python/)\n",
    "\n",
    "Special thanks to: https://github.com/chrisalbon for sharing the dataset and materials.\n",
    "\n",
    "### Step 1. Import the necessary libraries"
   ]
  },
  {
   "cell_type": "code",
   "execution_count": 165,
   "metadata": {
    "collapsed": false
   },
   "outputs": [],
   "source": [
    "import pandas as pd\n",
    "import numpy as np"
   ]
  },
  {
   "cell_type": "markdown",
   "metadata": {},
   "source": [
    "### Step 2. This is the data given as a dictionary"
   ]
  },
  {
   "cell_type": "code",
   "execution_count": 166,
   "metadata": {
    "collapsed": true
   },
   "outputs": [],
   "source": [
    "# Create an example dataframe about a fictional army\n",
    "raw_data = {'regiment': ['Nighthawks', 'Nighthawks', 'Nighthawks', 'Nighthawks', 'Dragoons', 'Dragoons', 'Dragoons', 'Dragoons', 'Scouts', 'Scouts', 'Scouts', 'Scouts'],\n",
    "            'company': ['1st', '1st', '2nd', '2nd', '1st', '1st', '2nd', '2nd','1st', '1st', '2nd', '2nd'],\n",
    "            'deaths': [523, 52, 25, 616, 43, 234, 523, 62, 62, 73, 37, 35],\n",
    "            'battles': [5, 42, 2, 2, 4, 7, 8, 3, 4, 7, 8, 9],\n",
    "            'size': [1045, 957, 1099, 1400, 1592, 1006, 987, 849, 973, 1005, 1099, 1523],\n",
    "            'veterans': [1, 5, 62, 26, 73, 37, 949, 48, 48, 435, 63, 345],\n",
    "            'readiness': [1, 2, 3, 3, 2, 1, 2, 3, 2, 1, 2, 3],\n",
    "            'armored': [1, 0, 1, 1, 0, 1, 0, 1, 0, 0, 1, 1],\n",
    "            'deserters': [4, 24, 31, 2, 3, 4, 24, 31, 2, 3, 2, 3],\n",
    "            'origin': ['Arizona', 'California', 'Texas', 'Florida', 'Maine', 'Iowa', 'Alaska', 'Washington', 'Oregon', 'Wyoming', 'Louisana', 'Georgia']}"
   ]
  },
  {
   "cell_type": "markdown",
   "metadata": {},
   "source": [
    "### Step 3. Create a dataframe and assign it to a variable called army. \n",
    "\n",
    "#### Don't forget to include the columns names"
   ]
  },
  {
   "cell_type": "code",
   "execution_count": 167,
   "metadata": {
    "collapsed": false
   },
   "outputs": [
    {
     "name": "stdout",
     "output_type": "stream",
     "text": [
      "Index(['regiment', 'company', 'deaths', 'battles', 'size', 'veterans',\n",
      "       'readiness', 'armored', 'deserters', 'origin'],\n",
      "      dtype='object')\n"
     ]
    }
   ],
   "source": [
    "army = pd.DataFrame(raw_data)\n",
    "\n",
    "army.head()\n",
    "print(army.columns)"
   ]
  },
  {
   "cell_type": "markdown",
   "metadata": {},
   "source": [
    "### Step 4. Set the 'origin' colum as the index of the dataframe"
   ]
  },
  {
   "cell_type": "code",
   "execution_count": 168,
   "metadata": {
    "collapsed": false
   },
   "outputs": [
    {
     "name": "stdout",
     "output_type": "stream",
     "text": [
      "              regiment company  deaths  battles  size  veterans  readiness  \\\n",
      "origin                                                                       \n",
      "Arizona     Nighthawks     1st     523        5  1045         1          1   \n",
      "California  Nighthawks     1st      52       42   957         5          2   \n",
      "Texas       Nighthawks     2nd      25        2  1099        62          3   \n",
      "Florida     Nighthawks     2nd     616        2  1400        26          3   \n",
      "Maine         Dragoons     1st      43        4  1592        73          2   \n",
      "Iowa          Dragoons     1st     234        7  1006        37          1   \n",
      "Alaska        Dragoons     2nd     523        8   987       949          2   \n",
      "Washington    Dragoons     2nd      62        3   849        48          3   \n",
      "Oregon          Scouts     1st      62        4   973        48          2   \n",
      "Wyoming         Scouts     1st      73        7  1005       435          1   \n",
      "Louisana        Scouts     2nd      37        8  1099        63          2   \n",
      "Georgia         Scouts     2nd      35        9  1523       345          3   \n",
      "\n",
      "            armored  deserters  \n",
      "origin                          \n",
      "Arizona           1          4  \n",
      "California        0         24  \n",
      "Texas             1         31  \n",
      "Florida           1          2  \n",
      "Maine             0          3  \n",
      "Iowa              1          4  \n",
      "Alaska            0         24  \n",
      "Washington        1         31  \n",
      "Oregon            0          2  \n",
      "Wyoming           0          3  \n",
      "Louisana          1          2  \n",
      "Georgia           1          3  \n"
     ]
    }
   ],
   "source": [
    "print(army.set_index('origin'))"
   ]
  },
  {
   "cell_type": "markdown",
   "metadata": {},
   "source": [
    "### Step 5. Print only the column veterans"
   ]
  },
  {
   "cell_type": "code",
   "execution_count": 169,
   "metadata": {
    "collapsed": false
   },
   "outputs": [
    {
     "name": "stdout",
     "output_type": "stream",
     "text": [
      "    veterans\n",
      "0          1\n",
      "1          5\n",
      "2         62\n",
      "3         26\n",
      "4         73\n",
      "5         37\n",
      "6        949\n",
      "7         48\n",
      "8         48\n",
      "9        435\n",
      "10        63\n",
      "11       345\n"
     ]
    }
   ],
   "source": [
    "print(army[['veterans']])"
   ]
  },
  {
   "cell_type": "markdown",
   "metadata": {},
   "source": [
    "### Step 6. Print the columns 'veterans' and 'deaths'"
   ]
  },
  {
   "cell_type": "code",
   "execution_count": 170,
   "metadata": {
    "collapsed": false
   },
   "outputs": [
    {
     "name": "stdout",
     "output_type": "stream",
     "text": [
      "    veterans  deaths\n",
      "0          1     523\n",
      "1          5      52\n",
      "2         62      25\n",
      "3         26     616\n",
      "4         73      43\n",
      "5         37     234\n",
      "6        949     523\n",
      "7         48      62\n",
      "8         48      62\n",
      "9        435      73\n",
      "10        63      37\n",
      "11       345      35\n"
     ]
    }
   ],
   "source": [
    "print(army[['veterans', 'deaths']])"
   ]
  },
  {
   "cell_type": "markdown",
   "metadata": {},
   "source": [
    "### Step 7. Print the name of all the columns."
   ]
  },
  {
   "cell_type": "code",
   "execution_count": 171,
   "metadata": {
    "collapsed": false
   },
   "outputs": [
    {
     "name": "stdout",
     "output_type": "stream",
     "text": [
      "Index(['regiment', 'company', 'deaths', 'battles', 'size', 'veterans',\n",
      "       'readiness', 'armored', 'deserters', 'origin'],\n",
      "      dtype='object')\n"
     ]
    }
   ],
   "source": [
    "print(army.columns)"
   ]
  },
  {
   "cell_type": "markdown",
   "metadata": {},
   "source": [
    "### Step 8. Select the 'deaths', 'size' and 'deserters' columns from Maine and Alaska"
   ]
  },
  {
   "cell_type": "code",
   "execution_count": 172,
   "metadata": {},
   "outputs": [
    {
     "name": "stdout",
     "output_type": "stream",
     "text": [
      "   deaths  size  deserters\n",
      "6     523   987         24\n",
      "4      43  1592          3\n"
     ]
    }
   ],
   "source": [
    "new_army = pd.concat([army[army['origin'] == 'Alaska'], army[army['origin'] == 'Maine']])[['deaths', 'size', 'deserters']]\n",
    "print(new_army)\n",
    "\n"
   ]
  },
  {
   "cell_type": "code",
   "execution_count": 173,
   "metadata": {},
   "outputs": [
    {
     "name": "stdout",
     "output_type": "stream",
     "text": [
      "   battles  size\n",
      "3        2  1400\n",
      "4        4  1592\n",
      "5        7  1006\n",
      "6        8   987\n",
      "7        3   849\n"
     ]
    },
    {
     "data": {
      "text/plain": [
       "Index(['battles', 'size'], dtype='object')"
      ]
     },
     "execution_count": 173,
     "metadata": {},
     "output_type": "execute_result"
    }
   ],
   "source": [
    "### Step 9. Select the rows 3 to 7 and the columns 3 \n",
    "\n",
    "new_df = pd.DataFrame(army.iloc[3:8]).iloc[:,3:5]\n",
    "print(new_df)\n",
    "new_df.shape\n",
    "new_df.columns"
   ]
  },
  {
   "cell_type": "markdown",
   "metadata": {},
   "source": [
    "### Step 10. Select every row after the fourth row"
   ]
  },
  {
   "cell_type": "code",
   "execution_count": 174,
   "metadata": {},
   "outputs": [
    {
     "name": "stdout",
     "output_type": "stream",
     "text": [
      "    regiment company  deaths  battles  size  veterans  readiness  armored  \\\n",
      "4   Dragoons     1st      43        4  1592        73          2        0   \n",
      "5   Dragoons     1st     234        7  1006        37          1        1   \n",
      "6   Dragoons     2nd     523        8   987       949          2        0   \n",
      "7   Dragoons     2nd      62        3   849        48          3        1   \n",
      "8     Scouts     1st      62        4   973        48          2        0   \n",
      "9     Scouts     1st      73        7  1005       435          1        0   \n",
      "10    Scouts     2nd      37        8  1099        63          2        1   \n",
      "11    Scouts     2nd      35        9  1523       345          3        1   \n",
      "\n",
      "    deserters      origin  \n",
      "4           3       Maine  \n",
      "5           4        Iowa  \n",
      "6          24      Alaska  \n",
      "7          31  Washington  \n",
      "8           2      Oregon  \n",
      "9           3     Wyoming  \n",
      "10          2    Louisana  \n",
      "11          3     Georgia  \n"
     ]
    }
   ],
   "source": [
    "print(army.iloc[4:, ])"
   ]
  },
  {
   "cell_type": "markdown",
   "metadata": {},
   "source": [
    "### Step 11. Select every row up to the 4th row"
   ]
  },
  {
   "cell_type": "code",
   "execution_count": 175,
   "metadata": {
    "collapsed": false
   },
   "outputs": [
    {
     "name": "stdout",
     "output_type": "stream",
     "text": [
      "     regiment company  deaths  battles  size  veterans  readiness  armored  \\\n",
      "0  Nighthawks     1st     523        5  1045         1          1        1   \n",
      "1  Nighthawks     1st      52       42   957         5          2        0   \n",
      "2  Nighthawks     2nd      25        2  1099        62          3        1   \n",
      "3  Nighthawks     2nd     616        2  1400        26          3        1   \n",
      "4    Dragoons     1st      43        4  1592        73          2        0   \n",
      "\n",
      "   deserters      origin  \n",
      "0          4     Arizona  \n",
      "1         24  California  \n",
      "2         31       Texas  \n",
      "3          2     Florida  \n",
      "4          3       Maine  \n"
     ]
    }
   ],
   "source": [
    "print(army.iloc[0:5])"
   ]
  },
  {
   "cell_type": "markdown",
   "metadata": {},
   "source": [
    "### Step 12. Select the 3rd column up to the 7th column"
   ]
  },
  {
   "cell_type": "code",
   "execution_count": 176,
   "metadata": {
    "collapsed": false
   },
   "outputs": [
    {
     "name": "stdout",
     "output_type": "stream",
     "text": [
      "    battles  size  veterans  readiness  armored\n",
      "0         5  1045         1          1        1\n",
      "1        42   957         5          2        0\n",
      "2         2  1099        62          3        1\n",
      "3         2  1400        26          3        1\n",
      "4         4  1592        73          2        0\n",
      "5         7  1006        37          1        1\n",
      "6         8   987       949          2        0\n",
      "7         3   849        48          3        1\n",
      "8         4   973        48          2        0\n",
      "9         7  1005       435          1        0\n",
      "10        8  1099        63          2        1\n",
      "11        9  1523       345          3        1\n"
     ]
    }
   ],
   "source": [
    "print(army.iloc[:, 3:8])"
   ]
  },
  {
   "cell_type": "markdown",
   "metadata": {},
   "source": [
    "### Step 13. Select rows where df.deaths is greater than 50"
   ]
  },
  {
   "cell_type": "code",
   "execution_count": 177,
   "metadata": {
    "collapsed": false
   },
   "outputs": [
    {
     "name": "stdout",
     "output_type": "stream",
     "text": [
      "     regiment company  deaths  battles  size  veterans  readiness  armored  \\\n",
      "0  Nighthawks     1st     523        5  1045         1          1        1   \n",
      "1  Nighthawks     1st      52       42   957         5          2        0   \n",
      "3  Nighthawks     2nd     616        2  1400        26          3        1   \n",
      "5    Dragoons     1st     234        7  1006        37          1        1   \n",
      "6    Dragoons     2nd     523        8   987       949          2        0   \n",
      "7    Dragoons     2nd      62        3   849        48          3        1   \n",
      "8      Scouts     1st      62        4   973        48          2        0   \n",
      "9      Scouts     1st      73        7  1005       435          1        0   \n",
      "\n",
      "   deserters      origin  \n",
      "0          4     Arizona  \n",
      "1         24  California  \n",
      "3          2     Florida  \n",
      "5          4        Iowa  \n",
      "6         24      Alaska  \n",
      "7         31  Washington  \n",
      "8          2      Oregon  \n",
      "9          3     Wyoming  \n"
     ]
    }
   ],
   "source": [
    "print(army[army.deaths > 50])"
   ]
  },
  {
   "cell_type": "markdown",
   "metadata": {},
   "source": [
    "### Step 14. Select rows where df.deaths is greater than 500 or less than 50"
   ]
  },
  {
   "cell_type": "code",
   "execution_count": 178,
   "metadata": {
    "collapsed": false
   },
   "outputs": [
    {
     "name": "stdout",
     "output_type": "stream",
     "text": [
      "      regiment company  deaths  battles  size  veterans  readiness  armored  \\\n",
      "0   Nighthawks     1st     523        5  1045         1          1        1   \n",
      "2   Nighthawks     2nd      25        2  1099        62          3        1   \n",
      "3   Nighthawks     2nd     616        2  1400        26          3        1   \n",
      "4     Dragoons     1st      43        4  1592        73          2        0   \n",
      "6     Dragoons     2nd     523        8   987       949          2        0   \n",
      "10      Scouts     2nd      37        8  1099        63          2        1   \n",
      "11      Scouts     2nd      35        9  1523       345          3        1   \n",
      "\n",
      "    deserters    origin  \n",
      "0           4   Arizona  \n",
      "2          31     Texas  \n",
      "3           2   Florida  \n",
      "4           3     Maine  \n",
      "6          24    Alaska  \n",
      "10          2  Louisana  \n",
      "11          3   Georgia  \n"
     ]
    }
   ],
   "source": [
    "print(army[(army.deaths > 500) | (army.deaths < 50)])"
   ]
  },
  {
   "cell_type": "markdown",
   "metadata": {},
   "source": [
    "### Step 15. Select all the regiments not named \"Dragoons\""
   ]
  },
  {
   "cell_type": "code",
   "execution_count": 179,
   "metadata": {
    "collapsed": false
   },
   "outputs": [
    {
     "name": "stdout",
     "output_type": "stream",
     "text": [
      "      regiment company  deaths  battles  size  veterans  readiness  armored  \\\n",
      "0   Nighthawks     1st     523        5  1045         1          1        1   \n",
      "1   Nighthawks     1st      52       42   957         5          2        0   \n",
      "2   Nighthawks     2nd      25        2  1099        62          3        1   \n",
      "3   Nighthawks     2nd     616        2  1400        26          3        1   \n",
      "8       Scouts     1st      62        4   973        48          2        0   \n",
      "9       Scouts     1st      73        7  1005       435          1        0   \n",
      "10      Scouts     2nd      37        8  1099        63          2        1   \n",
      "11      Scouts     2nd      35        9  1523       345          3        1   \n",
      "\n",
      "    deserters      origin  \n",
      "0           4     Arizona  \n",
      "1          24  California  \n",
      "2          31       Texas  \n",
      "3           2     Florida  \n",
      "8           2      Oregon  \n",
      "9           3     Wyoming  \n",
      "10          2    Louisana  \n",
      "11          3     Georgia  \n"
     ]
    }
   ],
   "source": [
    "print(army[army.regiment != 'Dragoons'])"
   ]
  },
  {
   "cell_type": "markdown",
   "metadata": {},
   "source": [
    "### Step 16. Select the rows called Texas and Arizona"
   ]
  },
  {
   "cell_type": "code",
   "execution_count": 180,
   "metadata": {
    "collapsed": false
   },
   "outputs": [
    {
     "name": "stdout",
     "output_type": "stream",
     "text": [
      "     regiment company  deaths  battles  size  veterans  readiness  armored  \\\n",
      "2  Nighthawks     2nd      25        2  1099        62          3        1   \n",
      "0  Nighthawks     1st     523        5  1045         1          1        1   \n",
      "\n",
      "   deserters   origin  \n",
      "2         31    Texas  \n",
      "0          4  Arizona  \n"
     ]
    }
   ],
   "source": [
    "print(pd.concat([army[army['origin'] == 'Texas'], army[army['origin'] == 'Arizona']]))"
   ]
  },
  {
   "cell_type": "markdown",
   "metadata": {},
   "source": [
    "### Step 17. Select the third cell in the row named Arizona"
   ]
  },
  {
   "cell_type": "code",
   "execution_count": 181,
   "metadata": {
    "collapsed": false
   },
   "outputs": [
    {
     "name": "stdout",
     "output_type": "stream",
     "text": [
      "0    5\n",
      "Name: battles, dtype: int64\n"
     ]
    }
   ],
   "source": [
    "print(army[army['origin'] == 'Arizona'].iloc[:, 3])"
   ]
  },
  {
   "cell_type": "markdown",
   "metadata": {},
   "source": [
    "### Step 18. Select the third cell down in the column named deaths"
   ]
  },
  {
   "cell_type": "code",
   "execution_count": 182,
   "metadata": {
    "collapsed": false
   },
   "outputs": [
    {
     "name": "stdout",
     "output_type": "stream",
     "text": [
      "62\n"
     ]
    }
   ],
   "source": [
    "print(np.array(army.deaths[::-1])[3])"
   ]
  }
 ],
 "metadata": {
  "kernelspec": {
   "display_name": "Python 3",
   "language": "python",
   "name": "python3"
  },
  "language_info": {
   "codemirror_mode": {
    "name": "ipython",
    "version": 3
   },
   "file_extension": ".py",
   "mimetype": "text/x-python",
   "name": "python",
   "nbconvert_exporter": "python",
   "pygments_lexer": "ipython3",
   "version": "3.9.13"
  }
 },
 "nbformat": 4,
 "nbformat_minor": 0
}
