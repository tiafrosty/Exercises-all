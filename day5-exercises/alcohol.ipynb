{
 "cells": [
  {
   "cell_type": "markdown",
   "metadata": {},
   "source": [
    "# Ex - GroupBy"
   ]
  },
  {
   "cell_type": "markdown",
   "metadata": {},
   "source": [
    "### Introduction:\n",
    "\n",
    "GroupBy can be summarizes as Split-Apply-Combine.\n",
    "\n",
    "Special thanks to: https://github.com/justmarkham for sharing the dataset and materials.\n",
    "\n",
    "Check out this [Diagram](http://i.imgur.com/yjNkiwL.png)  \n",
    "### Step 1. Import the necessary libraries"
   ]
  },
  {
   "cell_type": "code",
   "execution_count": 2,
   "metadata": {
    "collapsed": false
   },
   "outputs": [],
   "source": [
    "import pandas as pd \n",
    "import numpy as np"
   ]
  },
  {
   "cell_type": "markdown",
   "metadata": {},
   "source": [
    "### Step 2. Import the dataset from this [address](https://raw.githubusercontent.com/justmarkham/DAT8/master/data/drinks.csv). "
   ]
  },
  {
   "cell_type": "markdown",
   "metadata": {},
   "source": [
    "### Step 3. Assign it to a variable called drinks."
   ]
  },
  {
   "cell_type": "code",
   "execution_count": 7,
   "metadata": {
    "collapsed": false
   },
   "outputs": [
    {
     "data": {
      "text/html": [
       "<div>\n",
       "<style scoped>\n",
       "    .dataframe tbody tr th:only-of-type {\n",
       "        vertical-align: middle;\n",
       "    }\n",
       "\n",
       "    .dataframe tbody tr th {\n",
       "        vertical-align: top;\n",
       "    }\n",
       "\n",
       "    .dataframe thead th {\n",
       "        text-align: right;\n",
       "    }\n",
       "</style>\n",
       "<table border=\"1\" class=\"dataframe\">\n",
       "  <thead>\n",
       "    <tr style=\"text-align: right;\">\n",
       "      <th></th>\n",
       "      <th>country</th>\n",
       "      <th>beer_servings</th>\n",
       "      <th>spirit_servings</th>\n",
       "      <th>wine_servings</th>\n",
       "      <th>total_litres_of_pure_alcohol</th>\n",
       "    </tr>\n",
       "    <tr>\n",
       "      <th>continent</th>\n",
       "      <th></th>\n",
       "      <th></th>\n",
       "      <th></th>\n",
       "      <th></th>\n",
       "      <th></th>\n",
       "    </tr>\n",
       "  </thead>\n",
       "  <tbody>\n",
       "    <tr>\n",
       "      <th>AS</th>\n",
       "      <td>Afghanistan</td>\n",
       "      <td>0</td>\n",
       "      <td>0</td>\n",
       "      <td>0</td>\n",
       "      <td>0.0</td>\n",
       "    </tr>\n",
       "    <tr>\n",
       "      <th>EU</th>\n",
       "      <td>Albania</td>\n",
       "      <td>89</td>\n",
       "      <td>132</td>\n",
       "      <td>54</td>\n",
       "      <td>4.9</td>\n",
       "    </tr>\n",
       "    <tr>\n",
       "      <th>AF</th>\n",
       "      <td>Algeria</td>\n",
       "      <td>25</td>\n",
       "      <td>0</td>\n",
       "      <td>14</td>\n",
       "      <td>0.7</td>\n",
       "    </tr>\n",
       "    <tr>\n",
       "      <th>EU</th>\n",
       "      <td>Andorra</td>\n",
       "      <td>245</td>\n",
       "      <td>138</td>\n",
       "      <td>312</td>\n",
       "      <td>12.4</td>\n",
       "    </tr>\n",
       "    <tr>\n",
       "      <th>AF</th>\n",
       "      <td>Angola</td>\n",
       "      <td>217</td>\n",
       "      <td>57</td>\n",
       "      <td>45</td>\n",
       "      <td>5.9</td>\n",
       "    </tr>\n",
       "    <tr>\n",
       "      <th>...</th>\n",
       "      <td>...</td>\n",
       "      <td>...</td>\n",
       "      <td>...</td>\n",
       "      <td>...</td>\n",
       "      <td>...</td>\n",
       "    </tr>\n",
       "    <tr>\n",
       "      <th>SA</th>\n",
       "      <td>Venezuela</td>\n",
       "      <td>333</td>\n",
       "      <td>100</td>\n",
       "      <td>3</td>\n",
       "      <td>7.7</td>\n",
       "    </tr>\n",
       "    <tr>\n",
       "      <th>AS</th>\n",
       "      <td>Vietnam</td>\n",
       "      <td>111</td>\n",
       "      <td>2</td>\n",
       "      <td>1</td>\n",
       "      <td>2.0</td>\n",
       "    </tr>\n",
       "    <tr>\n",
       "      <th>AS</th>\n",
       "      <td>Yemen</td>\n",
       "      <td>6</td>\n",
       "      <td>0</td>\n",
       "      <td>0</td>\n",
       "      <td>0.1</td>\n",
       "    </tr>\n",
       "    <tr>\n",
       "      <th>AF</th>\n",
       "      <td>Zambia</td>\n",
       "      <td>32</td>\n",
       "      <td>19</td>\n",
       "      <td>4</td>\n",
       "      <td>2.5</td>\n",
       "    </tr>\n",
       "    <tr>\n",
       "      <th>AF</th>\n",
       "      <td>Zimbabwe</td>\n",
       "      <td>64</td>\n",
       "      <td>18</td>\n",
       "      <td>4</td>\n",
       "      <td>4.7</td>\n",
       "    </tr>\n",
       "  </tbody>\n",
       "</table>\n",
       "<p>193 rows × 5 columns</p>\n",
       "</div>"
      ],
      "text/plain": [
       "               country  beer_servings  spirit_servings  wine_servings  \\\n",
       "continent                                                               \n",
       "AS         Afghanistan              0                0              0   \n",
       "EU             Albania             89              132             54   \n",
       "AF             Algeria             25                0             14   \n",
       "EU             Andorra            245              138            312   \n",
       "AF              Angola            217               57             45   \n",
       "...                ...            ...              ...            ...   \n",
       "SA           Venezuela            333              100              3   \n",
       "AS             Vietnam            111                2              1   \n",
       "AS               Yemen              6                0              0   \n",
       "AF              Zambia             32               19              4   \n",
       "AF            Zimbabwe             64               18              4   \n",
       "\n",
       "           total_litres_of_pure_alcohol  \n",
       "continent                                \n",
       "AS                                  0.0  \n",
       "EU                                  4.9  \n",
       "AF                                  0.7  \n",
       "EU                                 12.4  \n",
       "AF                                  5.9  \n",
       "...                                 ...  \n",
       "SA                                  7.7  \n",
       "AS                                  2.0  \n",
       "AS                                  0.1  \n",
       "AF                                  2.5  \n",
       "AF                                  4.7  \n",
       "\n",
       "[193 rows x 5 columns]"
      ]
     },
     "execution_count": 7,
     "metadata": {},
     "output_type": "execute_result"
    }
   ],
   "source": [
    "filepath = 'https://raw.githubusercontent.com/justmarkham/DAT8/master/data/drinks.csv'\n",
    "drinks = pd.DataFrame(pd.read_csv(filepath, sep = ','))\n",
    "\n",
    "drinks.head()\n",
    "drinks.set_index('continent')"
   ]
  },
  {
   "cell_type": "code",
   "execution_count": 21,
   "metadata": {},
   "outputs": [
    {
     "name": "stdout",
     "output_type": "stream",
     "text": [
      "Maximal beer servings is in  117    AF\n",
      "Name: continent, dtype: object\n"
     ]
    }
   ],
   "source": [
    "### Step 4. Which continent drinks more beer on average?\n",
    "\n",
    "continent_max_beer = drinks['continent'][drinks['beer_servings'] == np.max(drinks['beer_servings'])]\n",
    "print('Maximal beer servings is in ', continent_max_beer)"
   ]
  },
  {
   "cell_type": "markdown",
   "metadata": {},
   "source": [
    "### Step 5. For each continent print the statistics for wine consumption."
   ]
  },
  {
   "cell_type": "code",
   "execution_count": 62,
   "metadata": {
    "collapsed": false
   },
   "outputs": [
    {
     "name": "stdout",
     "output_type": "stream",
     "text": [
      "Current continent: AS\n",
      "Wine consumption statistics:\n",
      "mean: 9.068181818181818 , median: 1.0\n",
      "Mean alcohol consumption:\n",
      "beer_servings                   37.045455\n",
      "spirit_servings                 60.840909\n",
      "wine_servings                    9.068182\n",
      "total_litres_of_pure_alcohol     2.170455\n",
      "dtype: float64\n",
      "Median alcohol consumption:\n",
      "beer_servings                   17.5\n",
      "spirit_servings                 16.0\n",
      "wine_servings                    1.0\n",
      "total_litres_of_pure_alcohol     1.2\n",
      "dtype: float64\n",
      "Current continent: EU\n",
      "Wine consumption statistics:\n",
      "mean: 142.22222222222223 , median: 128.0\n",
      "Mean alcohol consumption:\n",
      "beer_servings                   193.777778\n",
      "spirit_servings                 132.555556\n",
      "wine_servings                   142.222222\n",
      "total_litres_of_pure_alcohol      8.617778\n",
      "dtype: float64\n",
      "Median alcohol consumption:\n",
      "beer_servings                   219.0\n",
      "spirit_servings                 122.0\n",
      "wine_servings                   128.0\n",
      "total_litres_of_pure_alcohol     10.0\n",
      "dtype: float64\n",
      "Current continent: AF\n",
      "Wine consumption statistics:\n",
      "mean: 16.264150943396228 , median: 2.0\n",
      "Mean alcohol consumption:\n",
      "beer_servings                   61.471698\n",
      "spirit_servings                 16.339623\n",
      "wine_servings                   16.264151\n",
      "total_litres_of_pure_alcohol     3.007547\n",
      "dtype: float64\n",
      "Median alcohol consumption:\n",
      "beer_servings                   32.0\n",
      "spirit_servings                  3.0\n",
      "wine_servings                    2.0\n",
      "total_litres_of_pure_alcohol     2.3\n",
      "dtype: float64\n",
      "Current continent: SA\n",
      "Wine consumption statistics:\n",
      "mean: 62.416666666666664 , median: 12.0\n",
      "Mean alcohol consumption:\n",
      "beer_servings                   175.083333\n",
      "spirit_servings                 114.750000\n",
      "wine_servings                    62.416667\n",
      "total_litres_of_pure_alcohol      6.308333\n",
      "dtype: float64\n",
      "Median alcohol consumption:\n",
      "beer_servings                   162.50\n",
      "spirit_servings                 108.50\n",
      "wine_servings                    12.00\n",
      "total_litres_of_pure_alcohol      6.85\n",
      "dtype: float64\n",
      "Current continent: OC\n",
      "Wine consumption statistics:\n",
      "mean: 35.625 , median: 8.5\n",
      "Mean alcohol consumption:\n",
      "beer_servings                   89.68750\n",
      "spirit_servings                 58.43750\n",
      "wine_servings                   35.62500\n",
      "total_litres_of_pure_alcohol     3.38125\n",
      "dtype: float64\n",
      "Median alcohol consumption:\n",
      "beer_servings                   52.50\n",
      "spirit_servings                 37.00\n",
      "wine_servings                    8.50\n",
      "total_litres_of_pure_alcohol     1.75\n",
      "dtype: float64\n",
      "Done\n"
     ]
    }
   ],
   "source": [
    "all_conts = np.array(drinks.continent.drop_duplicates().dropna(axis = 0))\n",
    "\n",
    "for cur_continent in all_conts:\n",
    "    cur_wine_consumption = drinks[drinks['continent'] ==  cur_continent]['wine_servings']\n",
    "    print('Current continent:', cur_continent)\n",
    "    print('Wine consumption statistics:')\n",
    "    print('mean:', cur_wine_consumption.mean(), ', median:', cur_wine_consumption.median())\n",
    "    mean_alc_total = drinks[drinks['continent'] ==  cur_continent].drop(['country','continent'], axis = 1).mean(axis = 0)\n",
    "    print('Mean alcohol consumption:')\n",
    "    print(mean_alc_total)   \n",
    "    print('Median alcohol consumption:')\n",
    "    median_alc_total = drinks[drinks['continent'] ==  cur_continent].drop(['country','continent'], axis = 1).median(axis = 0)\n",
    "    print(median_alc_total)    \n",
    "    \n",
    "print('Done')\n",
    "\n"
   ]
  },
  {
   "cell_type": "markdown",
   "metadata": {},
   "source": [
    "### Step 6. Print the mean alcoohol consumption per continent for every column"
   ]
  },
  {
   "cell_type": "markdown",
   "metadata": {},
   "source": [
    "### Step 7. Print the median alcoohol consumption per continent for every column"
   ]
  },
  {
   "cell_type": "markdown",
   "metadata": {},
   "source": [
    "### Step 8. Print the mean, min and max values for spirit consumption.\n",
    "#### This time output a DataFrame"
   ]
  },
  {
   "cell_type": "code",
   "execution_count": 119,
   "metadata": {
    "collapsed": false
   },
   "outputs": [
    {
     "name": "stdout",
     "output_type": "stream",
     "text": [
      "                              cur_col_max  cur_col_min  cur_col_mean\n",
      "beer_servings                       376.0          0.0    106.160622\n",
      "spirit_servings                     438.0          0.0     80.994819\n",
      "wine_servings                       370.0          0.0     49.450777\n",
      "total_litres_of_pure_alcohol         14.4          0.0      4.717098\n"
     ]
    }
   ],
   "source": [
    "new_df = drinks.drop(['country','continent'], axis = 1)\n",
    "# create a DF to keep statistics\n",
    "all_stats =  pd.DataFrame(columns=['cur_col_max', 'cur_col_min', 'cur_col_mean'])\n",
    "for i in range(new_df.shape[1]):\n",
    "    cur_col_max = new_df.iloc[:, i].max()\n",
    "    cur_col_min = new_df.iloc[:, i].min()\n",
    "    cur_col_mean = new_df.iloc[:, i].mean()\n",
    "    all_stats.loc[i] = [cur_col_max, cur_col_min, cur_col_mean]\n",
    "    \n",
    "all_stats.index = new_df.columns\n",
    "print(all_stats)"
   ]
  }
 ],
 "metadata": {
  "kernelspec": {
   "display_name": "Python 3",
   "language": "python",
   "name": "python3"
  },
  "language_info": {
   "codemirror_mode": {
    "name": "ipython",
    "version": 3
   },
   "file_extension": ".py",
   "mimetype": "text/x-python",
   "name": "python",
   "nbconvert_exporter": "python",
   "pygments_lexer": "ipython3",
   "version": "3.9.13"
  }
 },
 "nbformat": 4,
 "nbformat_minor": 0
}
